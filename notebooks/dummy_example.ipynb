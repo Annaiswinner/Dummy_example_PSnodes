{
 "cells": [
  {
   "cell_type": "markdown",
   "metadata": {},
   "source": [
    "<img src=\"EEGRIDAnalytics.png\">"
   ]
  },
  {
   "cell_type": "code",
   "execution_count": 1,
   "metadata": {},
   "outputs": [],
   "source": [
    "import pandas as pd\n",
    "\n",
    "import ipywidgets as widgets\n",
    "import json\n",
    "\n",
    "import datetime as dt\n",
    "import numpy as np\n",
    "from ipyleaflet import *\n",
    "from ipywidgets import *\n"
   ]
  },
  {
   "cell_type": "code",
   "execution_count": 2,
   "metadata": {},
   "outputs": [],
   "source": [
    "ee_basemaps={}\n",
    "ee_basemaps['ARCGIS_Satelite'] = TileLayer(url='https://server.arcgisonline.com/ArcGIS/rest/services/World_Imagery/MapServer/tile/{z}/{y}/{x}')\n",
    "\n",
    "# Loops through all ipyleaflet basemaps\n",
    "for item in basemaps.values():\n",
    "    try:\n",
    "        name = item['name']\n",
    "        basemap = 'basemaps.{}'.format(name)\n",
    "        ee_basemaps[name] = basemap_to_tiles(eval(basemap))\n",
    "    except:\n",
    "        for sub_item in item:\n",
    "            name = item[sub_item]['name']\n",
    "            basemap = 'basemaps.{}'.format(name)\n",
    "            basemap = basemap.replace('Mids', 'Modis')\n",
    "            ee_basemaps[name] = basemap_to_tiles(eval(basemap))\n",
    "list_maps = list(ee_basemaps.keys())\n",
    "list_maps_2 = list_maps[0:2]"
   ]
  },
  {
   "cell_type": "code",
   "execution_count": 3,
   "metadata": {},
   "outputs": [],
   "source": [
    "def change_map_layer(change):\n",
    "    print('layer change start')\n",
    "    basemap_name = change['new']\n",
    "    list_classes1 = [m.layers[jj].__class__.__name__ for jj in range(0,len(m.layers))]\n",
    "    if len(list_classes1)==1:\n",
    "        m.add_layer(ee_basemaps[basemap_name])\n",
    "    else:\n",
    "        list_classes2 = [m.layers[jj].__class__.__name__ for jj in range(1,len(m.layers))]\n",
    "        if 'TileLayer' in list_classes2:\n",
    "            old_basemap1 = m.layers[list_classes2.index('TileLayer')+1]\n",
    "            m.substitute_layer(old_basemap1, ee_basemaps[basemap_name])\n",
    "        else:\n",
    "            m.add_layer(ee_basemaps[basemap_name])\n",
    "            "
   ]
  },
  {
   "cell_type": "code",
   "execution_count": 41,
   "metadata": {},
   "outputs": [],
   "source": [
    "FV_df1 = pd.read_csv('Dummy_Nodes.csv')"
   ]
  },
  {
   "cell_type": "code",
   "execution_count": 43,
   "metadata": {},
   "outputs": [],
   "source": [
    "FV_df1['BusNo&Name'] = FV_df1['BusNumber'].astype('str').str.cat(FV_df1['BusName'], sep= '-')\n",
    "Bus_no_list =sorted(FV_df1[\"BusNo&Name\"].unique())"
   ]
  },
  {
   "cell_type": "code",
   "execution_count": 44,
   "metadata": {},
   "outputs": [],
   "source": [
    "def Bus_No_control(change):\n",
    "    if change.new != None:\n",
    "        flag = 1\n",
    "        df88_1=FV_df1[FV_df1['BusNo&Name'] == '900007-Bus_8']\n",
    "        print(df88_1)\n",
    "        x = df88_1['Latitude']\n",
    "        y = df88_1['Longitude']\n",
    "        bus_fp = df88_1['BusNumber'].iloc[0] \n",
    "        marker = Marker(location = (x.iloc[0],y.iloc[0]),draggable=False)\n",
    "\n",
    "        message2 = HTML()\n",
    "        message2.value =\"Bus No.:\"+str(df88_1['BusNumber'].iloc[0])+'<br>'+\"BusName:\"+df88_1['BusName'].iloc[0] \\\n",
    "                                +'<br>'+'KV:'+str(df88_1['kVLevel'].iloc[0])+'<br>'+'Load Zone:'+df88_1['LoadZone'].iloc[0]\\\n",
    "                                +'<br>'+'TSP Name:'+df88_1['TSPName'].iloc[0]\n",
    "        marker.popup = message2\n",
    "\n",
    "\n",
    "        m.add_layer(marker)\n",
    "        m.center = (x.iloc[0],y.iloc[0])\n",
    "        m.zoom = 18\n"
   ]
  },
  {
   "cell_type": "code",
   "execution_count": 45,
   "metadata": {},
   "outputs": [
    {
     "data": {
      "application/vnd.jupyter.widget-view+json": {
       "model_id": "9a05c089697b49f9b13125f2911868ee",
       "version_major": 2,
       "version_minor": 0
      },
      "text/plain": [
       "Map(center=[31.432, -102.4377], controls=(AttributionControl(options=['position', 'prefix'], position='bottomr…"
      ]
     },
     "metadata": {},
     "output_type": "display_data"
    }
   ],
   "source": [
    "center=(31.432,-102.4377)\n",
    "#print(center)\n",
    "m = Map(center=center, zoom_control=False, zoom=5,inertia = True, max_zoom = 30,scroll_wheel_zoom = True, inertia_max_speed = 1500, preferCanvas = True)\n",
    "m.layout.height='500px'\n",
    "\n",
    "full_screen = FullScreenControl(position='bottomleft')\n",
    "m.add_control(full_screen)\n",
    "m.add_control(ZoomControl(position='bottomleft'))\n",
    "\n",
    "dd1 = widgets.Dropdown(options=Bus_no_list,value=None,description='Bus No.&Name:',layout=Layout(width='250px'))\n",
    "dd1.observe(Bus_No_control, names=\"value\")\n",
    "widget_control2 = WidgetControl(widget=dd1, position='topleft')\n",
    "m.add_control(widget_control2)\n",
    "\n",
    "\n",
    "Map_layer = widgets.Dropdown(options=list_maps_2,value=None,description='BaseMap:')\n",
    "Map_layer.observe(change_map_layer, 'value')\n",
    "base_layer = WidgetControl(widget=Map_layer, position='topright')\n",
    "m.add_control(base_layer)\n",
    "\n",
    "m"
   ]
  },
  {
   "cell_type": "code",
   "execution_count": 46,
   "metadata": {},
   "outputs": [],
   "source": [
    "with open('Dummy_Nodes.geojson', 'r') as f:\n",
    "    data = json.load(f)\n",
    "features = data['features']\n",
    "marker_c = []\n",
    "for i in range(len(features)):\n",
    "    location=(features[i]['geometry']['coordinates'][1],features[i]['geometry']['coordinates'][0])\n",
    "    Bus_Number = features[i]['properties']['Bus Number']\n",
    "#     print(PSSE_New_BUS)\n",
    "#     PSSE_New_BUS = str(PSSE_New_BUS)\n",
    "    Bus_Name = features[i]['properties']['Bus Name']\n",
    "\n",
    "    kV_Level = features[i]['properties']['kV Level']\n",
    "    Load_Zone = features[i]['properties']['Load Zone']\n",
    "#     County = str(County)\n",
    "\n",
    "    marker = Marker(location=location,draggable=False)\n",
    "    message2 = HTML()\n",
    "    message2.value =\"Bus_Number: \"+str(Bus_Number)+'<br>'+\"Bus_Name \"+str(Bus_Name)\\\n",
    "                    +'<br>'+'kV_Level: '+str(kV_Level)+'<br>'+'Load_Zone: '+str(Load_Zone)\n",
    "    \n",
    "    marker.icon = AwesomeIcon(name='battery',marker_color='red',icon_color='black', spin=False)\n",
    "\n",
    "    marker.popup = message2\n",
    "    marker_c.append(marker)\n",
    "marker_cluster = MarkerCluster(markers =marker_c)   \n",
    "m.add_layer(marker_cluster)"
   ]
  },
  {
   "cell_type": "code",
   "execution_count": null,
   "metadata": {},
   "outputs": [],
   "source": []
  },
  {
   "cell_type": "code",
   "execution_count": null,
   "metadata": {},
   "outputs": [],
   "source": []
  },
  {
   "cell_type": "code",
   "execution_count": null,
   "metadata": {},
   "outputs": [],
   "source": []
  },
  {
   "cell_type": "code",
   "execution_count": null,
   "metadata": {},
   "outputs": [],
   "source": []
  },
  {
   "cell_type": "code",
   "execution_count": null,
   "metadata": {},
   "outputs": [],
   "source": []
  },
  {
   "cell_type": "code",
   "execution_count": null,
   "metadata": {},
   "outputs": [],
   "source": []
  },
  {
   "cell_type": "code",
   "execution_count": null,
   "metadata": {},
   "outputs": [],
   "source": []
  }
 ],
 "metadata": {
  "kernelspec": {
   "display_name": "Python 3",
   "language": "python",
   "name": "python3"
  },
  "language_info": {
   "codemirror_mode": {
    "name": "ipython",
    "version": 3
   },
   "file_extension": ".py",
   "mimetype": "text/x-python",
   "name": "python",
   "nbconvert_exporter": "python",
   "pygments_lexer": "ipython3",
   "version": "3.7.4"
  }
 },
 "nbformat": 4,
 "nbformat_minor": 4
}
